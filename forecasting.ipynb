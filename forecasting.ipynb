{
 "cells": [
  {
   "cell_type": "code",
   "execution_count": 1,
   "metadata": {},
   "outputs": [],
   "source": [
    "import numpy as np\n",
    "import pandas as pd\n"
   ]
  },
  {
   "cell_type": "code",
   "execution_count": 609,
   "metadata": {},
   "outputs": [],
   "source": [
    "data_true=pd.read_csv(\"imputed_data.csv\")"
   ]
  },
  {
   "cell_type": "code",
   "execution_count": 623,
   "metadata": {},
   "outputs": [],
   "source": [
    "data=data_true.iloc[:,3:8]"
   ]
  },
  {
   "cell_type": "code",
   "execution_count": 624,
   "metadata": {},
   "outputs": [],
   "source": [
    "data=data[(data.City==\"Dallas Ft Worth\") & (data.Year!=2020.0)]"
   ]
  },
  {
   "cell_type": "code",
   "execution_count": 625,
   "metadata": {},
   "outputs": [
    {
     "data": {
      "text/plain": [
       "(9131, 5)"
      ]
     },
     "execution_count": 625,
     "metadata": {},
     "output_type": "execute_result"
    }
   ],
   "source": [
    "data.shape"
   ]
  },
  {
   "cell_type": "code",
   "execution_count": 626,
   "metadata": {},
   "outputs": [],
   "source": [
    "X=data.iloc[:,4]\n",
    "# y=data.iloc[:,4]\n"
   ]
  },
  {
   "cell_type": "code",
   "execution_count": 627,
   "metadata": {},
   "outputs": [],
   "source": [
    "# import category_encoders as ce\n",
    "# ce_binary = ce.BinaryEncoder(cols = ['City','Month','Day','Year'])\n",
    "# X=ce_binary.fit_transform(X, y)"
   ]
  },
  {
   "cell_type": "code",
   "execution_count": 628,
   "metadata": {},
   "outputs": [],
   "source": [
    "# frames=[X,y]\n",
    "# X=pd.concat(frames,axis=1)"
   ]
  },
  {
   "cell_type": "code",
   "execution_count": 629,
   "metadata": {},
   "outputs": [],
   "source": [
    "# X=X.iloc[:,1:]"
   ]
  },
  {
   "cell_type": "code",
   "execution_count": 630,
   "metadata": {},
   "outputs": [],
   "source": [
    "X=np.array(X)"
   ]
  },
  {
   "cell_type": "code",
   "execution_count": 631,
   "metadata": {},
   "outputs": [],
   "source": [
    "# avg_temp_y=X_feat[:,13]\n",
    "avg_temp_y=np.reshape(X,(-1,1))"
   ]
  },
  {
   "cell_type": "code",
   "execution_count": 632,
   "metadata": {},
   "outputs": [],
   "source": [
    "from sklearn.preprocessing import MinMaxScaler\n",
    "scaler = MinMaxScaler(feature_range = (0, 1))\n",
    "\n",
    "avg_temp_y = scaler.fit_transform(avg_temp_y)\n",
    "avg_temp_y=avg_temp_y.ravel()\n",
    "X_feat=avg_temp_y"
   ]
  },
  {
   "cell_type": "code",
   "execution_count": 633,
   "metadata": {},
   "outputs": [
    {
     "data": {
      "text/plain": [
       "(9131,)"
      ]
     },
     "execution_count": 633,
     "metadata": {},
     "output_type": "execute_result"
    }
   ],
   "source": [
    "np.shape(X_feat)"
   ]
  },
  {
   "cell_type": "code",
   "execution_count": 634,
   "metadata": {},
   "outputs": [],
   "source": [
    "features_set = []\n",
    "labels = []\n",
    "for i in range(50,9131):\n",
    "    features_set.append(X_feat[i-50:i])\n",
    "    labels.append(X_feat[i])"
   ]
  },
  {
   "cell_type": "code",
   "execution_count": 635,
   "metadata": {},
   "outputs": [],
   "source": [
    "features_set, labels = np.array(features_set), np.array(labels)"
   ]
  },
  {
   "cell_type": "code",
   "execution_count": 636,
   "metadata": {},
   "outputs": [],
   "source": [
    "features_set = np.reshape(features_set, (features_set.shape[0], features_set.shape[1], 1))"
   ]
  },
  {
   "cell_type": "code",
   "execution_count": 637,
   "metadata": {},
   "outputs": [],
   "source": [
    "from keras.models import Sequential\n",
    "from keras.layers import Dense\n",
    "from keras.layers import LSTM\n",
    "from keras.layers import Dropout"
   ]
  },
  {
   "cell_type": "code",
   "execution_count": 638,
   "metadata": {},
   "outputs": [],
   "source": [
    "model = Sequential()\n",
    "model.add(LSTM(units=50, return_sequences=True, input_shape=(features_set.shape[1], 1)))\n",
    "model.add(Dropout(0.2))\n",
    "model.add(LSTM(units=50, return_sequences=True))\n",
    "model.add(Dropout(0.2))\n",
    "\n",
    "model.add(LSTM(units=50, return_sequences=True))\n",
    "model.add(Dropout(0.2))\n",
    "\n",
    "model.add(LSTM(units=50))\n",
    "model.add(Dropout(0.2))\n",
    "model.add(Dense(units = 1))\n",
    "model.compile(optimizer = 'adam', loss = 'mean_squared_error')"
   ]
  },
  {
   "cell_type": "code",
   "execution_count": 639,
   "metadata": {},
   "outputs": [
    {
     "name": "stdout",
     "output_type": "stream",
     "text": [
      "Epoch 1/15\n",
      "9081/9081 [==============================] - 29s 3ms/step - loss: 0.0212\n",
      "Epoch 2/15\n",
      "9081/9081 [==============================] - 26s 3ms/step - loss: 0.0137: 0s - los\n",
      "Epoch 3/15\n",
      "9081/9081 [==============================] - 26s 3ms/step - loss: 0.0132\n",
      "Epoch 4/15\n",
      "9081/9081 [==============================] - 27s 3ms/step - loss: 0.0126\n",
      "Epoch 5/15\n",
      "9081/9081 [==============================] - 26s 3ms/step - loss: 0.0117\n",
      "Epoch 6/15\n",
      "9081/9081 [==============================] - 27s 3ms/step - loss: 0.0112: 1s\n",
      "Epoch 7/15\n",
      "9081/9081 [==============================] - 26s 3ms/step - loss: 0.0106\n",
      "Epoch 8/15\n",
      "9081/9081 [==============================] - 26s 3ms/step - loss: 0.0099\n",
      "Epoch 9/15\n",
      "9081/9081 [==============================] - 26s 3ms/step - loss: 0.0088\n",
      "Epoch 10/15\n",
      "9081/9081 [==============================] - 25s 3ms/step - loss: 0.0075\n",
      "Epoch 11/15\n",
      "9081/9081 [==============================] - 26s 3ms/step - loss: 0.0068\n",
      "Epoch 12/15\n",
      "9081/9081 [==============================] - 26s 3ms/step - loss: 0.0065: 0s - loss: 0.\n",
      "Epoch 13/15\n",
      "9081/9081 [==============================] - 26s 3ms/step - loss: 0.0062\n",
      "Epoch 14/15\n",
      "9081/9081 [==============================] - 26s 3ms/step - loss: 0.0061\n",
      "Epoch 15/15\n",
      "9081/9081 [==============================] - 26s 3ms/step - loss: 0.0059\n"
     ]
    },
    {
     "data": {
      "text/plain": [
       "<keras.callbacks.callbacks.History at 0x2199215f248>"
      ]
     },
     "execution_count": 639,
     "metadata": {},
     "output_type": "execute_result"
    }
   ],
   "source": [
    "model.fit(features_set, labels, epochs = 15, batch_size = 32)"
   ]
  },
  {
   "cell_type": "code",
   "execution_count": 640,
   "metadata": {},
   "outputs": [],
   "source": [
    "data_20=data_true[(data_true['Year'] == 2020) & (data_true[\"City\"]==\"Dallas Ft Worth\")]"
   ]
  },
  {
   "cell_type": "code",
   "execution_count": 641,
   "metadata": {},
   "outputs": [],
   "source": [
    "data_2020=data_20.iloc[:,7]\n"
   ]
  },
  {
   "cell_type": "code",
   "execution_count": 642,
   "metadata": {},
   "outputs": [],
   "source": [
    "# test_X=data_2020.iloc[:,0:4]\n",
    "# test_y=data_2020.iloc[:,4]\n",
    "# #ce_binary_test = ce.BinaryEncoder(cols = ['Region','Country','City','Month','Day','Year'])\n",
    "# X_test=ce_binary.transform(test_X, test_y)\n"
   ]
  },
  {
   "cell_type": "code",
   "execution_count": 643,
   "metadata": {},
   "outputs": [],
   "source": [
    "# frames=[X_test,test_y]\n",
    "# X_test=pd.concat(frames,axis=1)"
   ]
  },
  {
   "cell_type": "code",
   "execution_count": 644,
   "metadata": {},
   "outputs": [],
   "source": [
    "# total_feat=X_test.iloc[:,:].values\n",
    "# avg_temp_y=total_feat[:,14]\n",
    "data_2020=np.array(data_2020)\n",
    "avg_temp_y=np.reshape(data_2020,(-1,1))\n",
    "avg_temp_y = scaler.transform(avg_temp_y)\n",
    "data_2020=avg_temp_y.ravel()\n"
   ]
  },
  {
   "cell_type": "code",
   "execution_count": 645,
   "metadata": {},
   "outputs": [],
   "source": [
    "total = np.concatenate((X_feat,data_2020))"
   ]
  },
  {
   "cell_type": "code",
   "execution_count": 646,
   "metadata": {},
   "outputs": [],
   "source": [
    "test_inputs = total[len(total) - len(X_test) - 50:]"
   ]
  },
  {
   "cell_type": "code",
   "execution_count": 647,
   "metadata": {},
   "outputs": [],
   "source": [
    "test_features = []\n",
    "for i in range(50, 184):\n",
    "    test_features.append(test_inputs[i-50:i])"
   ]
  },
  {
   "cell_type": "code",
   "execution_count": 648,
   "metadata": {
    "scrolled": true
   },
   "outputs": [],
   "source": [
    "test_features = np.array(test_features)\n",
    "\n",
    "test_features = np.reshape(test_features, (test_features.shape[0], test_features.shape[1], 1))"
   ]
  },
  {
   "cell_type": "code",
   "execution_count": 649,
   "metadata": {},
   "outputs": [],
   "source": [
    "# test_set=np.reshape(test_features[0],(1,35,36))"
   ]
  },
  {
   "cell_type": "code",
   "execution_count": 650,
   "metadata": {},
   "outputs": [],
   "source": [
    "predictions = model.predict(test_features)"
   ]
  },
  {
   "cell_type": "code",
   "execution_count": 651,
   "metadata": {},
   "outputs": [],
   "source": [
    "y_test=data_20.iloc[:,7].values"
   ]
  },
  {
   "cell_type": "code",
   "execution_count": 652,
   "metadata": {},
   "outputs": [],
   "source": [
    "predictions = scaler.inverse_transform(predictions)"
   ]
  },
  {
   "cell_type": "code",
   "execution_count": 653,
   "metadata": {},
   "outputs": [
    {
     "name": "stdout",
     "output_type": "stream",
     "text": [
      "0.6685523878414683\n",
      "6.508851408375742\n"
     ]
    }
   ],
   "source": [
    "from sklearn.metrics import r2_score\n",
    "from sklearn.metrics import mean_squared_error\n",
    "import math\n",
    "print(r2_score(y_test,predictions))\n",
    "print(math.sqrt(mean_squared_error(y_test,predictions)))"
   ]
  },
  {
   "cell_type": "code",
   "execution_count": 654,
   "metadata": {},
   "outputs": [],
   "source": [
    "import matplotlib.pyplot as plt"
   ]
  },
  {
   "cell_type": "code",
   "execution_count": 656,
   "metadata": {},
   "outputs": [
    {
     "data": {
      "image/png": "[encoded data removed]",
      "text/plain": [
       "<Figure size 720x432 with 1 Axes>"
      ]
     },
     "metadata": {
      "needs_background": "light"
     },
     "output_type": "display_data"
    }
   ],
   "source": [
    "plt.figure(figsize=(10,6))\n",
    "plt.plot(y_test, color='blue', label='actual_temperature')\n",
    "plt.plot(predictions , color='red', label='Predicted_temperature')\n",
    "plt.title('Temperature forecast predictions for Dallas city 2020')\n",
    "plt.xlabel('2020')\n",
    "\n",
    "plt.legend()\n",
    "plt.show()"
   ]
  },
  {
   "cell_type": "code",
   "execution_count": null,
   "metadata": {},
   "outputs": [],
   "source": [
    "\n"
   ]
  }
 ],
 "metadata": {
  "kernelspec": {
   "display_name": "Python 3",
   "language": "python",
   "name": "python3"
  },
  "language_info": {
   "codemirror_mode": {
    "name": "ipython",
    "version": 3
   },
   "file_extension": ".py",
   "mimetype": "text/x-python",
   "name": "python",
   "nbconvert_exporter": "python",
   "pygments_lexer": "ipython3",
   "version": "3.7.6"
  }
 },
 "nbformat": 4,
 "nbformat_minor": 4
}
